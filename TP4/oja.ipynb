{
 "cells": [
  {
   "cell_type": "code",
   "execution_count": 1,
   "metadata": {},
   "outputs": [],
   "source": [
    "import json\n",
    "import csv\n",
    "import numpy as np\n",
    "from sklearn.decomposition import PCA\n",
    "\n",
    "from src.kohonen import estandarize_data_func\n",
    "from src.oja import train_oja\n",
    "from main_pca import bar_graph\n",
    "from main_oja import read_and_load_csv_data, read_and_load_json_data"
   ]
  },
  {
   "cell_type": "code",
   "execution_count": null,
   "metadata": {},
   "outputs": [
    {
     "name": "stdout",
     "output_type": "stream",
     "text": [
      "Weights: [ 0.97154563 -0.40059667  0.64257213 -1.00647925 -0.46161313 -0.03562018\n",
      " -0.91323762]\n",
      "PCA 1 estandarizado: [ 0.34204578 -0.6598261   1.47363291 -2.02339439 -0.25334145 -0.40912198\n",
      "  1.12453784  0.65805634  0.75561795 -3.68444273  0.89023136  0.22747206\n",
      " -2.38418951 -0.38697455  1.72333987  0.2841727  -1.63699418 -1.31416489\n",
      " -0.19539463  1.52616751 -1.16731404  0.12814207 -1.67851186 -1.18143933\n",
      "  0.82946006 -1.8072624   8.91432553 -0.09482993]\n",
      "PCA 1: [-1.06225512 -0.6688211   2.56285012  1.24726141 -0.16419646 -0.93797874\n",
      "  2.44290749 -0.20676891 -0.58171902  0.98244396  1.37172691 -1.55518187\n",
      " -1.77632183 -0.8378493   2.26450539  1.50252828 -3.41575532 -1.80689657\n",
      " -2.06855257  1.44525321  0.51700619  0.76885732  0.06632628 -0.16081596\n",
      " -0.86915616 -3.22245361  4.49773395 -0.33467796]\n",
      "\n",
      "Error que hay entre Oja y Sklearn: 0.3480595261099759\n"
     ]
    }
   ],
   "source": [
    "alg_name = \"oja\"\n",
    "labels = ['Area', 'GDP', 'Inflation', 'Life.expect', 'Military', 'Pop.growth', 'Unemployment']\n",
    "learning_rate = 0.1\n",
    "max_epochs = 1000\n",
    "\n",
    "data, countries = read_and_load_csv_data()\n",
    "\n",
    "data = np.array(data)\n",
    "data_standarized = estandarize_data_func(data, len(data), len(data[0]))\n",
    "\n",
    "initial_weights = 2 * np.random.default_rng().random(len(data_standarized[0])) - 1\n",
    "\n",
    "weights = train_oja(data_standarized, learning_rate, initial_weights, max_epochs)\n",
    "print(\"Weights: \" + str(weights))\n",
    "pca_standarized = np.matmul(data_standarized, weights)\n",
    "print(\"PCA 1 estandarizado: \" + str(pca_standarized))\n",
    "\n",
    "pca = PCA()\n",
    "principal_components = pca.fit_transform(data_standarized)\n",
    "print(\"PCA 1: \" + str(principal_components[:, 0]))\n",
    "\n",
    "error = 0\n",
    "for i in range(len(weights)):\n",
    "    error = np.abs(weights[i] - principal_components[0][i])\n",
    "print(\"\\nError que hay entre Oja y Sklearn: \" + str(error))\n",
    "\n",
    "bar_graph(weights, labels, 'PCA1 con Oja')\n",
    "bar_graph(pca.components_[0], labels, \"PCA1 con Sklearn\")\n",
    "bar_graph(pca_standarized, countries, 'PCA1 por pais con Oja')\n",
    "bar_graph(principal_components[:, 0], countries, \"PCA1 por pais con Sklearn\")"
   ]
  }
 ],
 "metadata": {
  "kernelspec": {
   "display_name": "entorno_virtual",
   "language": "python",
   "name": "entorno_virtual"
  },
  "language_info": {
   "codemirror_mode": {
    "name": "ipython",
    "version": 3
   },
   "file_extension": ".py",
   "mimetype": "text/x-python",
   "name": "python",
   "nbconvert_exporter": "python",
   "pygments_lexer": "ipython3",
   "version": "3.10.6"
  }
 },
 "nbformat": 4,
 "nbformat_minor": 2
}
