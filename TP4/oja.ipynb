{
 "cells": [
  {
   "cell_type": "code",
   "execution_count": 1,
   "metadata": {},
   "outputs": [],
   "source": [
    "import numpy as np\n",
    "from sklearn.decomposition import PCA\n",
    "\n",
    "from src.kohonen import estandarize_data_func\n",
    "from src.oja import train_oja\n",
    "from main_pca import bar_graph\n",
    "from main_oja import read_and_load_csv_data"
   ]
  },
  {
   "cell_type": "code",
   "execution_count": 18,
   "metadata": {},
   "outputs": [
    {
     "name": "stdout",
     "output_type": "stream",
     "text": [
      "\n",
      "Error que hay entre Oja y Sklearn: 0.798777394427861\n",
      "\n",
      "Autovector con Oja: [ 0.19976932 -0.49045031  0.4767865  -0.50017386  0.13269894 -0.4576239\n",
      "  0.2335993 ]\n",
      "Autovector con Sklearn: [ 0.1248739  -0.50050586  0.40651815 -0.48287333  0.18811162 -0.47570355\n",
      "  0.27165582]\n",
      "\n",
      "PCA 1 con Oja: [-0.99550435 -0.68532921  2.49235637  1.02217018 -0.24139294 -0.9643824\n",
      "  2.41220032 -0.14702279 -0.51691734  0.70120285  1.34623244 -1.41065218\n",
      " -1.81472802 -0.81184702  2.27502959  1.48988308 -3.34203449 -1.86656765\n",
      " -2.05578666  1.50898518  0.42399878  0.75824864 -0.10880921 -0.08623912\n",
      " -0.73947184 -3.31602125  4.96712938 -0.29473034]\n",
      "PCA 1 con Sklearn: [-1.06225512 -0.6688211   2.56285012  1.24726141 -0.16419646 -0.93797874\n",
      "  2.44290749 -0.20676891 -0.58171902  0.98244396  1.37172691 -1.55518187\n",
      " -1.77632183 -0.8378493   2.26450539  1.50252828 -3.41575532 -1.80689657\n",
      " -2.06855257  1.44525321  0.51700619  0.76885732  0.06632628 -0.16081596\n",
      " -0.86915616 -3.22245361  4.49773395 -0.33467796]\n"
     ]
    }
   ],
   "source": [
    "alg_name = \"oja\"\n",
    "labels = ['Area', 'GDP', 'Inflation', 'Life.expect', 'Military', 'Pop.growth', 'Unemployment']\n",
    "learning_rate = 0.01\n",
    "max_epochs = 15000\n",
    "\n",
    "data, countries = read_and_load_csv_data()\n",
    "\n",
    "data = np.array(data)\n",
    "data_standarized = estandarize_data_func(data, len(data), len(data[0]))\n",
    "\n",
    "initial_weights = 2 * np.random.default_rng().random(len(data_standarized[0])) - 1\n",
    "\n",
    "weights = train_oja(data_standarized, learning_rate, initial_weights, max_epochs)\n",
    "pca_standarized = np.matmul(data_standarized, weights)\n",
    "\n",
    "pca = PCA()\n",
    "principal_components = pca.fit_transform(data_standarized)\n",
    "\n",
    "\n",
    "error = 0\n",
    "for i in range(len(weights)):\n",
    "    error = np.abs(weights[i] - principal_components[0][i])\n",
    "print(\"\\nError que hay entre Oja y Sklearn: \" + str(error))\n",
    "\n",
    "print(\"\\nAutovector con Oja: \" + str(weights))\n",
    "print(\"Autovector con Sklearn: \" + str(pca.components_[0]))\n",
    "\n",
    "print(\"\\nPCA 1 con Oja: \" + str(pca_standarized))\n",
    "print(\"PCA 1 con Sklearn: \" + str(principal_components[:, 0]))\n",
    "\n",
    "bar_graph(weights, labels, 'PCA1 con Oja')\n",
    "bar_graph(pca.components_[0], labels, \"PCA1 con Sklearn\")\n",
    "bar_graph(pca_standarized, countries, 'PCA1 por pais con Oja')\n",
    "bar_graph(principal_components[:, 0], countries, \"PCA1 por pais con Sklearn\")"
   ]
  },
  {
   "cell_type": "code",
   "execution_count": null,
   "metadata": {},
   "outputs": [],
   "source": []
  }
 ],
 "metadata": {
  "kernelspec": {
   "display_name": "Entorno_virtual",
   "language": "python",
   "name": "entorno_virtual"
  },
  "language_info": {
   "codemirror_mode": {
    "name": "ipython",
    "version": 3
   },
   "file_extension": ".py",
   "mimetype": "text/x-python",
   "name": "python",
   "nbconvert_exporter": "python",
   "pygments_lexer": "ipython3",
   "version": "3.10.6"
  }
 },
 "nbformat": 4,
 "nbformat_minor": 2
}
