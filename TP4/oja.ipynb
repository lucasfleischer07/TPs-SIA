{
 "cells": [
  {
   "cell_type": "code",
   "execution_count": 1,
   "metadata": {},
   "outputs": [],
   "source": [
    "import numpy as np\n",
    "from sklearn.decomposition import PCA\n",
    "\n",
    "from src.kohonen import estandarize_data_func\n",
    "from src.oja import train_oja\n",
    "from main_pca import bar_graph\n",
    "from main_oja import read_and_load_csv_data"
   ]
  },
  {
   "cell_type": "code",
   "execution_count": 13,
   "metadata": {},
   "outputs": [
    {
     "name": "stdout",
     "output_type": "stream",
     "text": [
      "\n",
      "Autovector con Oja: [ 0.12494283 -0.50049984  0.40658603 -0.48288751  0.18805402 -0.475689\n",
      "  0.27162229]\n",
      "Autovector con Sklearn: [ 0.1248739  -0.50050586  0.40651815 -0.48287333  0.18811162 -0.47570355\n",
      "  0.27165582]\n",
      "Norma de diferencia de la primer componente = 0.00011937581034242858\n",
      "\n",
      "PCA 1 con Oja: [-1.06218935 -0.66883454  2.56278444  1.24705068 -0.16426583 -0.93800429\n",
      "  2.44288389 -0.20671797 -0.58166064  0.98216775  1.37170614 -1.55503706\n",
      " -1.77635657 -0.83782722  2.2645261   1.50252905 -3.41569713 -1.80695773\n",
      " -2.06855455  1.44531461  0.51691852  0.76885506  0.06616299 -0.16074097\n",
      " -0.86903802 -3.22254872  4.49818122 -0.33464985]\n",
      "PCA 1 con Sklearn: [-1.06225512 -0.6688211   2.56285012  1.24726141 -0.16419646 -0.93797874\n",
      "  2.44290749 -0.20676891 -0.58171902  0.98244396  1.37172691 -1.55518187\n",
      " -1.77632183 -0.8378493   2.26450539  1.50252828 -3.41575532 -1.80689657\n",
      " -2.06855257  1.44525321  0.51700619  0.76885732  0.06632628 -0.16081596\n",
      " -0.86915616 -3.22245361  4.49773395 -0.33467796]\n",
      "Norma de diferencia de autovectores de paises = 0.0006631672409400172\n"
     ]
    }
   ],
   "source": [
    "alg_name = \"oja\"\n",
    "labels = ['Area', 'GDP', 'Inflation', 'Life.expect', 'Military', 'Pop.growth', 'Unemployment']\n",
    "learning_rate = 0.00001\n",
    "max_epochs = 150000\n",
    "\n",
    "data, countries = read_and_load_csv_data()\n",
    "\n",
    "data = np.array(data)\n",
    "data_standarized = estandarize_data_func(data, len(data), len(data[0]))\n",
    "\n",
    "initial_weights = 2 * np.random.default_rng().random(len(data_standarized[0])) - 1\n",
    "\n",
    "weights = train_oja(data_standarized, learning_rate, initial_weights, max_epochs)\n",
    "pca_standarized = np.matmul(data_standarized, weights)\n",
    "\n",
    "pca = PCA()\n",
    "principal_components = pca.fit_transform(data_standarized)\n",
    "\n",
    "print(\"\\nAutovector con Oja: \" + str(weights))\n",
    "print(\"Autovector con Sklearn: \" + str(pca.components_[0]))\n",
    "print(\"Norma de diferencia de la primer componente = \" + str(np.linalg.norm(weights - pca.components_[0])))\n",
    "\n",
    "print(\"\\nPCA 1 con Oja: \" + str(pca_standarized))\n",
    "print(\"PCA 1 con Sklearn: \" + str(principal_components[:, 0]))\n",
    "print(\"Norma de diferencia de autovectores de paises = \" + str(np.linalg.norm(pca_standarized - principal_components[:, 0])))\n",
    "\n",
    "bar_graph(weights, labels, 'PCA1 con Oja')\n",
    "bar_graph(pca.components_[0], labels, \"PCA1 con Sklearn\")\n",
    "bar_graph(pca_standarized, countries, 'PCA1 por pais con Oja')\n",
    "bar_graph(principal_components[:, 0], countries, \"PCA1 por pais con Sklearn\")"
   ]
  },
  {
   "cell_type": "code",
   "execution_count": null,
   "metadata": {},
   "outputs": [],
   "source": []
  }
 ],
 "metadata": {
  "kernelspec": {
   "display_name": "Entorno_virtual",
   "language": "python",
   "name": "entorno_virtual"
  },
  "language_info": {
   "codemirror_mode": {
    "name": "ipython",
    "version": 3
   },
   "file_extension": ".py",
   "mimetype": "text/x-python",
   "name": "python",
   "nbconvert_exporter": "python",
   "pygments_lexer": "ipython3",
   "version": "3.10.6"
  }
 },
 "nbformat": 4,
 "nbformat_minor": 2
}
