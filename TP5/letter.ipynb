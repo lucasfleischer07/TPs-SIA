{
 "cells": [
  {
   "cell_type": "code",
   "execution_count": 71,
   "metadata": {},
   "outputs": [],
   "source": [
    "import numpy as np\n",
    "import matplotlib.pyplot as plt\n",
    "\n",
    "from src.include.font import font\n",
    "from src.utils import hexa_to_bin_array, add_noise\n",
    "from src.plots import plot_letters_patterns, plot_letters_patterns_with_noise\n"
   ]
  },
  {
   "cell_type": "code",
   "execution_count": 72,
   "metadata": {},
   "outputs": [
    {
     "name": "stdout",
     "output_type": "stream",
     "text": [
      "[[ 0]\n",
      " [14]\n",
      " [ 1]\n",
      " [13]\n",
      " [19]\n",
      " [19]\n",
      " [13]]\n"
     ]
    }
   ],
   "source": [
    "char_example = np.copy(font[1])\n",
    "char_example.resize(7, 1)\n",
    "print(char_example)"
   ]
  },
  {
   "cell_type": "code",
   "execution_count": 73,
   "metadata": {},
   "outputs": [],
   "source": [
    "bin_array = np.zeros(5, dtype=int)\n",
    "for i in range(0,5):\n",
    "    bin_array[4-i] = char_example[0] & 1\n",
    "    char_example[0] >>= 1\n",
    "bin_array.resize(1, 5)\n"
   ]
  },
  {
   "cell_type": "code",
   "execution_count": 74,
   "metadata": {},
   "outputs": [],
   "source": [
    "only_first_row      = np.zeros((7, 5), dtype=int)\n",
    "only_first_row[0]   = bin_array * 4\n",
    "only_first_row[1:]  = np.ones((6, 5)) * 3"
   ]
  },
  {
   "cell_type": "code",
   "execution_count": 75,
   "metadata": {},
   "outputs": [
    {
     "name": "stdout",
     "output_type": "stream",
     "text": [
      "[[0 0 0 0 0]\n",
      " [0 1 1 1 0]\n",
      " [0 0 0 0 1]\n",
      " [0 1 1 0 1]\n",
      " [1 0 0 1 1]\n",
      " [1 0 0 1 1]\n",
      " [0 1 1 0 1]]\n"
     ]
    }
   ],
   "source": [
    "print(hexa_to_bin_array(font[1]))"
   ]
  },
  {
   "cell_type": "code",
   "execution_count": 76,
   "metadata": {},
   "outputs": [
    {
     "ename": "UFuncTypeError",
     "evalue": "Cannot cast ufunc 'add' output from dtype('float64') to dtype('int64') with casting rule 'same_kind'",
     "output_type": "error",
     "traceback": [
      "\u001b[0;31m---------------------------------------------------------------------------\u001b[0m",
      "\u001b[0;31mUFuncTypeError\u001b[0m                            Traceback (most recent call last)",
      "Cell \u001b[0;32mIn[76], line 9\u001b[0m\n\u001b[1;32m      6\u001b[0m     data\u001b[39m.\u001b[39mappend(np\u001b[39m.\u001b[39mconcatenate(aux))\n\u001b[1;32m      7\u001b[0m     letters_patterns\u001b[39m.\u001b[39mappend(aux)\n\u001b[0;32m----> 9\u001b[0m plot_letters_patterns_with_noise(add_noise(data, \u001b[39m10\u001b[39;49m))\n\u001b[1;32m     10\u001b[0m plot_letters_patterns(letters_patterns)\n",
      "File \u001b[0;32m~/Documents/ITBA/Cuarto_Ano_1-2_2023/SIA/TPs-SIA/TP5/src/utils.py:19\u001b[0m, in \u001b[0;36madd_noise\u001b[0;34m(letters, Num_of_bytes_to_change)\u001b[0m\n\u001b[1;32m     17\u001b[0m     indexs \u001b[39m=\u001b[39m np\u001b[39m.\u001b[39mrandom\u001b[39m.\u001b[39mchoice(\u001b[39mlen\u001b[39m(l), Num_of_bytes_to_change, replace\u001b[39m=\u001b[39m\u001b[39mFalse\u001b[39;00m)\n\u001b[1;32m     18\u001b[0m     r \u001b[39m=\u001b[39m np\u001b[39m.\u001b[39mrandom\u001b[39m.\u001b[39muniform(low\u001b[39m=\u001b[39m\u001b[39m-\u001b[39m\u001b[39m0.5\u001b[39m, high\u001b[39m=\u001b[39m\u001b[39m0.5\u001b[39m, size\u001b[39m=\u001b[39m\u001b[39mlen\u001b[39m(indexs))\n\u001b[0;32m---> 19\u001b[0m     l[indexs] \u001b[39m+\u001b[39m\u001b[39m=\u001b[39m r\n\u001b[1;32m     20\u001b[0m \u001b[39mreturn\u001b[39;00m letters\n",
      "\u001b[0;31mUFuncTypeError\u001b[0m: Cannot cast ufunc 'add' output from dtype('float64') to dtype('int64') with casting rule 'same_kind'"
     ]
    }
   ],
   "source": [
    "data = []\n",
    "letters_patterns = []\n",
    "\n",
    "for letter in font:\n",
    "    aux = hexa_to_bin_array(letter)\n",
    "    data.append(np.concatenate(aux))\n",
    "    letters_patterns.append(aux)\n",
    "\n",
    "plot_letters_patterns_with_noise(add_noise(data, 10))\n",
    "plot_letters_patterns(letters_patterns)"
   ]
  }
 ],
 "metadata": {
  "kernelspec": {
   "display_name": "Entorno_virtual",
   "language": "python",
   "name": "entorno_virtual"
  },
  "language_info": {
   "codemirror_mode": {
    "name": "ipython",
    "version": 3
   },
   "file_extension": ".py",
   "mimetype": "text/x-python",
   "name": "python",
   "nbconvert_exporter": "python",
   "pygments_lexer": "ipython3",
   "version": "3.10.6"
  }
 },
 "nbformat": 4,
 "nbformat_minor": 2
}
