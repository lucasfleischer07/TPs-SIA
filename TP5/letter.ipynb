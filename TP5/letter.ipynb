{
 "cells": [
  {
   "cell_type": "code",
   "execution_count": 10,
   "metadata": {},
   "outputs": [],
   "source": [
    "from seaborn import heatmap\n",
    "import seaborn as sns\n",
    "import numpy as np\n",
    "import matplotlib.pyplot as plt"
   ]
  },
  {
   "cell_type": "code",
   "execution_count": 11,
   "metadata": {},
   "outputs": [],
   "source": [
    "font = np.array([\n",
    "    [0x04, 0x04, 0x02, 0x00, 0x00, 0x00, 0x00],  # 0x60, `\n",
    "    [0x00, 0x0e, 0x01, 0x0d, 0x13, 0x13, 0x0d],  # 0x61, a\n",
    "    [0x10, 0x10, 0x10, 0x1c, 0x12, 0x12, 0x1c],  # 0x62, b\n",
    "    [0x00, 0x00, 0x00, 0x0e, 0x10, 0x10, 0x0e],  # 0x63, c\n",
    "    [0x01, 0x01, 0x01, 0x07, 0x09, 0x09, 0x07],  # 0x64, d\n",
    "    [0x00, 0x00, 0x0e, 0x11, 0x1f, 0x10, 0x0f],  # 0x65, e\n",
    "    [0x06, 0x09, 0x08, 0x1c, 0x08, 0x08, 0x08],  # 0x66, f\n",
    "    [0x0e, 0x11, 0x13, 0x0d, 0x01, 0x01, 0x0e],  # 0x67, g\n",
    "    [0x10, 0x10, 0x10, 0x16, 0x19, 0x11, 0x11],  # 0x68, h\n",
    "    [0x00, 0x04, 0x00, 0x0c, 0x04, 0x04, 0x0e],  # 0x69, i\n",
    "    [0x02, 0x00, 0x06, 0x02, 0x02, 0x12, 0x0c],  # 0x6a, j\n",
    "    [0x10, 0x10, 0x12, 0x14, 0x18, 0x14, 0x12],  # 0x6b, k\n",
    "    [0x0c, 0x04, 0x04, 0x04, 0x04, 0x04, 0x04],  # 0x6c, l\n",
    "    [0x00, 0x00, 0x0a, 0x15, 0x15, 0x11, 0x11],  # 0x6d, m\n",
    "    [0x00, 0x00, 0x16, 0x19, 0x11, 0x11, 0x11],  # 0x6e, n\n",
    "    [0x00, 0x00, 0x0e, 0x11, 0x11, 0x11, 0x0e],  # 0x6f, o\n",
    "    [0x00, 0x1c, 0x12, 0x12, 0x1c, 0x10, 0x10],  # 0x70, p\n",
    "    [0x00, 0x07, 0x09, 0x09, 0x07, 0x01, 0x01],  # 0x71, q\n",
    "    [0x00, 0x00, 0x16, 0x19, 0x10, 0x10, 0x10],  # 0x72, r\n",
    "    [0x00, 0x00, 0x0f, 0x10, 0x0e, 0x01, 0x1e],  # 0x73, s\n",
    "    [0x08, 0x08, 0x1c, 0x08, 0x08, 0x09, 0x06],  # 0x74, t\n",
    "    [0x00, 0x00, 0x11, 0x11, 0x11, 0x13, 0x0d],  # 0x75, u\n",
    "    [0x00, 0x00, 0x11, 0x11, 0x11, 0x0a, 0x04],  # 0x76, v\n",
    "    [0x00, 0x00, 0x11, 0x11, 0x15, 0x15, 0x0a],  # 0x77, w\n",
    "    [0x00, 0x00, 0x11, 0x0a, 0x04, 0x0a, 0x11],  # 0x78, x\n",
    "    [0x00, 0x11, 0x11, 0x0f, 0x01, 0x11, 0x0e],  # 0x79, y\n",
    "    [0x00, 0x00, 0x1f, 0x02, 0x04, 0x08, 0x1f],  # 0x7a, z\n",
    "    [0x06, 0x08, 0x08, 0x10, 0x08, 0x08, 0x06],  # 0x7b, {\n",
    "    [0x04, 0x04, 0x04, 0x00, 0x04, 0x04, 0x04],  # 0x7c, |\n",
    "    [0x0c, 0x02, 0x02, 0x01, 0x02, 0x02, 0x0c],  # 0x7d, }\n",
    "    [0x08, 0x15, 0x02, 0x00, 0x00, 0x00, 0x00],  # 0x7e, ~\n",
    "    [0x1f, 0x1f, 0x1f, 0x1f, 0x1f, 0x1f, 0x1f]   # 0x7f, DEL\n",
    "])"
   ]
  },
  {
   "cell_type": "code",
   "execution_count": 12,
   "metadata": {},
   "outputs": [
    {
     "name": "stdout",
     "output_type": "stream",
     "text": [
      "[[ 0]\n",
      " [14]\n",
      " [ 1]\n",
      " [13]\n",
      " [19]\n",
      " [19]\n",
      " [13]]\n"
     ]
    }
   ],
   "source": [
    "char_example = np.copy(font[1])\n",
    "char_example.resize(7, 1)\n",
    "print(char_example)"
   ]
  },
  {
   "cell_type": "code",
   "execution_count": 13,
   "metadata": {},
   "outputs": [],
   "source": [
    "bin_array = np.zeros(5, dtype=int)\n",
    "for i in range(0,5):\n",
    "    bin_array[4-i] = char_example[0] & 1\n",
    "    char_example[0] >>= 1\n",
    "bin_array.resize(1, 5)\n"
   ]
  },
  {
   "cell_type": "code",
   "execution_count": 14,
   "metadata": {},
   "outputs": [],
   "source": [
    "only_first_row      = np.zeros((7, 5), dtype=int)\n",
    "only_first_row[0]   = bin_array * 4\n",
    "only_first_row[1:]  = np.ones((6, 5)) * 3"
   ]
  },
  {
   "cell_type": "code",
   "execution_count": 15,
   "metadata": {},
   "outputs": [],
   "source": [
    "def to_bin_array(encoded_caracter):\n",
    "    bin_array = np.zeros((7, 5), dtype=int)\n",
    "    for row in range(0, 7):\n",
    "        current_row = encoded_caracter[row]\n",
    "        for col in range(0, 5):\n",
    "            bin_array[row][4-col] = current_row & 1\n",
    "            current_row >>= 1\n",
    "    return bin_array"
   ]
  },
  {
   "cell_type": "code",
   "execution_count": 16,
   "metadata": {},
   "outputs": [
    {
     "name": "stdout",
     "output_type": "stream",
     "text": [
      "[[0 0 0 0 0]\n",
      " [0 1 1 1 0]\n",
      " [0 0 0 0 1]\n",
      " [0 1 1 0 1]\n",
      " [1 0 0 1 1]\n",
      " [1 0 0 1 1]\n",
      " [0 1 1 0 1]]\n"
     ]
    }
   ],
   "source": [
    "print(to_bin_array(font[1]))"
   ]
  },
  {
   "cell_type": "code",
   "execution_count": null,
   "metadata": {},
   "outputs": [],
   "source": []
  },
  {
   "cell_type": "code",
   "execution_count": null,
   "metadata": {},
   "outputs": [],
   "source": []
  },
  {
   "cell_type": "code",
   "execution_count": 17,
   "metadata": {},
   "outputs": [],
   "source": [
    "def plot_binary_matrix(matrix):\n",
    "    num_rows, num_columns = matrix.shape\n",
    "\n",
    "    fig, ax = plt.subplots(figsize=(num_columns, num_rows))\n",
    "    ax.axis('off')\n",
    "\n",
    "    colors = [['black' if val == 1 else 'white' for val in row] for row in matrix]\n",
    "\n",
    "    table = ax.table(cellText=None, cellColours=colors, cellLoc='center', loc='center')\n",
    "    table.scale(1, 1.5)\n",
    "    table.auto_set_font_size(False)\n",
    "    table.set_fontsize(14)\n",
    "\n",
    "    plt.show()"
   ]
  },
  {
   "cell_type": "code",
   "execution_count": 18,
   "metadata": {},
   "outputs": [
    {
     "data": {
      "image/png": "[encoded data removed]",
      "text/plain": [
       "<Figure size 500x700 with 1 Axes>"
      ]
     },
     "metadata": {},
     "output_type": "display_data"
    }
   ],
   "source": [
    "plot_binary_matrix(to_bin_array(font[1]))"
   ]
  },
  {
   "cell_type": "code",
   "execution_count": 19,
   "metadata": {},
   "outputs": [],
   "source": [
    "def plot_letters_patterns(letters_patterns):\n",
    "    num_letters = len(letters_patterns)\n",
    "    num_rows = (num_letters + 4) // 5  # Calcular el número de filas necesario\n",
    "    fig, axs = plt.subplots(num_rows, 6, figsize=(10, num_rows * 1.5))\n",
    "    axs = axs.flat\n",
    "\n",
    "    for i, ax in enumerate(axs):\n",
    "        if i < num_letters:\n",
    "            matrix = letters_patterns[i]\n",
    "\n",
    "            # Crear el gráfico de la matriz con divisiones entre celdas\n",
    "            num_rows, num_columns = matrix.shape\n",
    "            colors = [['violet' if val == 1 else 'white' for val in row] for row in matrix]\n",
    "\n",
    "            if num_columns > 0:\n",
    "                ax.axis('off')\n",
    "                table = ax.table(cellText=None, cellColours=colors, cellLoc='center', loc='center')\n",
    "                table.scale(1, 1.5)\n",
    "                table.auto_set_font_size(False)\n",
    "                table.set_fontsize(14)\n",
    "                ax.axis('off')\n",
    "\n",
    "     \n",
    "           \n",
    "\n",
    "    # Ajustar los espacios entre las subtramas y mostrar el gráfico\n",
    "    plt.tight_layout()\n",
    "    plt.show()"
   ]
  },
  {
   "cell_type": "code",
   "execution_count": 20,
   "metadata": {},
   "outputs": [
    {
     "name": "stdout",
     "output_type": "stream",
     "text": [
      "[array([[0, 0, 1, 0, 0],\n",
      "       [0, 0, 1, 0, 0],\n",
      "       [0, 0, 0, 1, 0],\n",
      "       [0, 0, 0, 0, 0],\n",
      "       [0, 0, 0, 0, 0],\n",
      "       [0, 0, 0, 0, 0],\n",
      "       [0, 0, 0, 0, 0]]), array([[0, 0, 0, 0, 0],\n",
      "       [0, 1, 1, 1, 0],\n",
      "       [0, 0, 0, 0, 1],\n",
      "       [0, 1, 1, 0, 1],\n",
      "       [1, 0, 0, 1, 1],\n",
      "       [1, 0, 0, 1, 1],\n",
      "       [0, 1, 1, 0, 1]]), array([[1, 0, 0, 0, 0],\n",
      "       [1, 0, 0, 0, 0],\n",
      "       [1, 0, 0, 0, 0],\n",
      "       [1, 1, 1, 0, 0],\n",
      "       [1, 0, 0, 1, 0],\n",
      "       [1, 0, 0, 1, 0],\n",
      "       [1, 1, 1, 0, 0]]), array([[0, 0, 0, 0, 0],\n",
      "       [0, 0, 0, 0, 0],\n",
      "       [0, 0, 0, 0, 0],\n",
      "       [0, 1, 1, 1, 0],\n",
      "       [1, 0, 0, 0, 0],\n",
      "       [1, 0, 0, 0, 0],\n",
      "       [0, 1, 1, 1, 0]]), array([[0, 0, 0, 0, 1],\n",
      "       [0, 0, 0, 0, 1],\n",
      "       [0, 0, 0, 0, 1],\n",
      "       [0, 0, 1, 1, 1],\n",
      "       [0, 1, 0, 0, 1],\n",
      "       [0, 1, 0, 0, 1],\n",
      "       [0, 0, 1, 1, 1]]), array([[0, 0, 0, 0, 0],\n",
      "       [0, 0, 0, 0, 0],\n",
      "       [0, 1, 1, 1, 0],\n",
      "       [1, 0, 0, 0, 1],\n",
      "       [1, 1, 1, 1, 1],\n",
      "       [1, 0, 0, 0, 0],\n",
      "       [0, 1, 1, 1, 1]]), array([[0, 0, 1, 1, 0],\n",
      "       [0, 1, 0, 0, 1],\n",
      "       [0, 1, 0, 0, 0],\n",
      "       [1, 1, 1, 0, 0],\n",
      "       [0, 1, 0, 0, 0],\n",
      "       [0, 1, 0, 0, 0],\n",
      "       [0, 1, 0, 0, 0]]), array([[0, 1, 1, 1, 0],\n",
      "       [1, 0, 0, 0, 1],\n",
      "       [1, 0, 0, 1, 1],\n",
      "       [0, 1, 1, 0, 1],\n",
      "       [0, 0, 0, 0, 1],\n",
      "       [0, 0, 0, 0, 1],\n",
      "       [0, 1, 1, 1, 0]]), array([[1, 0, 0, 0, 0],\n",
      "       [1, 0, 0, 0, 0],\n",
      "       [1, 0, 0, 0, 0],\n",
      "       [1, 0, 1, 1, 0],\n",
      "       [1, 1, 0, 0, 1],\n",
      "       [1, 0, 0, 0, 1],\n",
      "       [1, 0, 0, 0, 1]]), array([[0, 0, 0, 0, 0],\n",
      "       [0, 0, 1, 0, 0],\n",
      "       [0, 0, 0, 0, 0],\n",
      "       [0, 1, 1, 0, 0],\n",
      "       [0, 0, 1, 0, 0],\n",
      "       [0, 0, 1, 0, 0],\n",
      "       [0, 1, 1, 1, 0]]), array([[0, 0, 0, 1, 0],\n",
      "       [0, 0, 0, 0, 0],\n",
      "       [0, 0, 1, 1, 0],\n",
      "       [0, 0, 0, 1, 0],\n",
      "       [0, 0, 0, 1, 0],\n",
      "       [1, 0, 0, 1, 0],\n",
      "       [0, 1, 1, 0, 0]]), array([[1, 0, 0, 0, 0],\n",
      "       [1, 0, 0, 0, 0],\n",
      "       [1, 0, 0, 1, 0],\n",
      "       [1, 0, 1, 0, 0],\n",
      "       [1, 1, 0, 0, 0],\n",
      "       [1, 0, 1, 0, 0],\n",
      "       [1, 0, 0, 1, 0]]), array([[0, 1, 1, 0, 0],\n",
      "       [0, 0, 1, 0, 0],\n",
      "       [0, 0, 1, 0, 0],\n",
      "       [0, 0, 1, 0, 0],\n",
      "       [0, 0, 1, 0, 0],\n",
      "       [0, 0, 1, 0, 0],\n",
      "       [0, 0, 1, 0, 0]]), array([[0, 0, 0, 0, 0],\n",
      "       [0, 0, 0, 0, 0],\n",
      "       [0, 1, 0, 1, 0],\n",
      "       [1, 0, 1, 0, 1],\n",
      "       [1, 0, 1, 0, 1],\n",
      "       [1, 0, 0, 0, 1],\n",
      "       [1, 0, 0, 0, 1]]), array([[0, 0, 0, 0, 0],\n",
      "       [0, 0, 0, 0, 0],\n",
      "       [1, 0, 1, 1, 0],\n",
      "       [1, 1, 0, 0, 1],\n",
      "       [1, 0, 0, 0, 1],\n",
      "       [1, 0, 0, 0, 1],\n",
      "       [1, 0, 0, 0, 1]]), array([[0, 0, 0, 0, 0],\n",
      "       [0, 0, 0, 0, 0],\n",
      "       [0, 1, 1, 1, 0],\n",
      "       [1, 0, 0, 0, 1],\n",
      "       [1, 0, 0, 0, 1],\n",
      "       [1, 0, 0, 0, 1],\n",
      "       [0, 1, 1, 1, 0]]), array([[0, 0, 0, 0, 0],\n",
      "       [1, 1, 1, 0, 0],\n",
      "       [1, 0, 0, 1, 0],\n",
      "       [1, 0, 0, 1, 0],\n",
      "       [1, 1, 1, 0, 0],\n",
      "       [1, 0, 0, 0, 0],\n",
      "       [1, 0, 0, 0, 0]]), array([[0, 0, 0, 0, 0],\n",
      "       [0, 0, 1, 1, 1],\n",
      "       [0, 1, 0, 0, 1],\n",
      "       [0, 1, 0, 0, 1],\n",
      "       [0, 0, 1, 1, 1],\n",
      "       [0, 0, 0, 0, 1],\n",
      "       [0, 0, 0, 0, 1]]), array([[0, 0, 0, 0, 0],\n",
      "       [0, 0, 0, 0, 0],\n",
      "       [1, 0, 1, 1, 0],\n",
      "       [1, 1, 0, 0, 1],\n",
      "       [1, 0, 0, 0, 0],\n",
      "       [1, 0, 0, 0, 0],\n",
      "       [1, 0, 0, 0, 0]]), array([[0, 0, 0, 0, 0],\n",
      "       [0, 0, 0, 0, 0],\n",
      "       [0, 1, 1, 1, 1],\n",
      "       [1, 0, 0, 0, 0],\n",
      "       [0, 1, 1, 1, 0],\n",
      "       [0, 0, 0, 0, 1],\n",
      "       [1, 1, 1, 1, 0]]), array([[0, 1, 0, 0, 0],\n",
      "       [0, 1, 0, 0, 0],\n",
      "       [1, 1, 1, 0, 0],\n",
      "       [0, 1, 0, 0, 0],\n",
      "       [0, 1, 0, 0, 0],\n",
      "       [0, 1, 0, 0, 1],\n",
      "       [0, 0, 1, 1, 0]]), array([[0, 0, 0, 0, 0],\n",
      "       [0, 0, 0, 0, 0],\n",
      "       [1, 0, 0, 0, 1],\n",
      "       [1, 0, 0, 0, 1],\n",
      "       [1, 0, 0, 0, 1],\n",
      "       [1, 0, 0, 1, 1],\n",
      "       [0, 1, 1, 0, 1]]), array([[0, 0, 0, 0, 0],\n",
      "       [0, 0, 0, 0, 0],\n",
      "       [1, 0, 0, 0, 1],\n",
      "       [1, 0, 0, 0, 1],\n",
      "       [1, 0, 0, 0, 1],\n",
      "       [0, 1, 0, 1, 0],\n",
      "       [0, 0, 1, 0, 0]]), array([[0, 0, 0, 0, 0],\n",
      "       [0, 0, 0, 0, 0],\n",
      "       [1, 0, 0, 0, 1],\n",
      "       [1, 0, 0, 0, 1],\n",
      "       [1, 0, 1, 0, 1],\n",
      "       [1, 0, 1, 0, 1],\n",
      "       [0, 1, 0, 1, 0]]), array([[0, 0, 0, 0, 0],\n",
      "       [0, 0, 0, 0, 0],\n",
      "       [1, 0, 0, 0, 1],\n",
      "       [0, 1, 0, 1, 0],\n",
      "       [0, 0, 1, 0, 0],\n",
      "       [0, 1, 0, 1, 0],\n",
      "       [1, 0, 0, 0, 1]]), array([[0, 0, 0, 0, 0],\n",
      "       [1, 0, 0, 0, 1],\n",
      "       [1, 0, 0, 0, 1],\n",
      "       [0, 1, 1, 1, 1],\n",
      "       [0, 0, 0, 0, 1],\n",
      "       [1, 0, 0, 0, 1],\n",
      "       [0, 1, 1, 1, 0]]), array([[0, 0, 0, 0, 0],\n",
      "       [0, 0, 0, 0, 0],\n",
      "       [1, 1, 1, 1, 1],\n",
      "       [0, 0, 0, 1, 0],\n",
      "       [0, 0, 1, 0, 0],\n",
      "       [0, 1, 0, 0, 0],\n",
      "       [1, 1, 1, 1, 1]]), array([[0, 0, 1, 1, 0],\n",
      "       [0, 1, 0, 0, 0],\n",
      "       [0, 1, 0, 0, 0],\n",
      "       [1, 0, 0, 0, 0],\n",
      "       [0, 1, 0, 0, 0],\n",
      "       [0, 1, 0, 0, 0],\n",
      "       [0, 0, 1, 1, 0]]), array([[0, 0, 1, 0, 0],\n",
      "       [0, 0, 1, 0, 0],\n",
      "       [0, 0, 1, 0, 0],\n",
      "       [0, 0, 0, 0, 0],\n",
      "       [0, 0, 1, 0, 0],\n",
      "       [0, 0, 1, 0, 0],\n",
      "       [0, 0, 1, 0, 0]]), array([[0, 1, 1, 0, 0],\n",
      "       [0, 0, 0, 1, 0],\n",
      "       [0, 0, 0, 1, 0],\n",
      "       [0, 0, 0, 0, 1],\n",
      "       [0, 0, 0, 1, 0],\n",
      "       [0, 0, 0, 1, 0],\n",
      "       [0, 1, 1, 0, 0]]), array([[0, 1, 0, 0, 0],\n",
      "       [1, 0, 1, 0, 1],\n",
      "       [0, 0, 0, 1, 0],\n",
      "       [0, 0, 0, 0, 0],\n",
      "       [0, 0, 0, 0, 0],\n",
      "       [0, 0, 0, 0, 0],\n",
      "       [0, 0, 0, 0, 0]]), array([[1, 1, 1, 1, 1],\n",
      "       [1, 1, 1, 1, 1],\n",
      "       [1, 1, 1, 1, 1],\n",
      "       [1, 1, 1, 1, 1],\n",
      "       [1, 1, 1, 1, 1],\n",
      "       [1, 1, 1, 1, 1],\n",
      "       [1, 1, 1, 1, 1]])]\n"
     ]
    }
   ],
   "source": [
    "data = []\n",
    "letters_patterns = []\n",
    "\n",
    "for letter in font:\n",
    "    aux = to_bin_array(letter)\n",
    "    data.append(np.concatenate(aux))\n",
    "    letters_patterns.append(aux)\n",
    "print(letters_patterns)"
   ]
  },
  {
   "cell_type": "code",
   "execution_count": 21,
   "metadata": {
    "scrolled": true
   },
   "outputs": [
    {
     "data": {
      "image/png": "[encoded data removed]",
      "text/plain": [
       "<Figure size 1000x1050 with 42 Axes>"
      ]
     },
     "metadata": {},
     "output_type": "display_data"
    }
   ],
   "source": [
    "plot_letters_patterns(letters_patterns)"
   ]
  }
 ],
 "metadata": {
  "kernelspec": {
   "display_name": "entorno_virtual",
   "language": "python",
   "name": "entorno_virtual"
  },
  "language_info": {
   "codemirror_mode": {
    "name": "ipython",
    "version": 3
   },
   "file_extension": ".py",
   "mimetype": "text/x-python",
   "name": "python",
   "nbconvert_exporter": "python",
   "pygments_lexer": "ipython3",
   "version": "3.10.6"
  }
 },
 "nbformat": 4,
 "nbformat_minor": 2
}
